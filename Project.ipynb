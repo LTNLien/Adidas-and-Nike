{
  "cells": [
    {
      "cell_type": "code",
      "execution_count": 1,
      "metadata": {
        "id": "tATEof_tSg_D"
      },
      "outputs": [],
      "source": [
        "import pandas as pd"
      ]
    },
    {
      "cell_type": "code",
      "execution_count": 2,
      "metadata": {
        "id": "jHP5p1eZTIs_"
      },
      "outputs": [],
      "source": [
        "Adidas_Nike=pd.read_csv('Adidas Vs Nike.csv')"
      ]
    },
    {
      "cell_type": "markdown",
      "metadata": {
        "id": "XTBDon8wXSVn"
      },
      "source": [
        "### <h1 style=\"color:mediumaquamarine;\"> _1. Tóm tắt dữ liệu_ </h1>"
      ]
    },
    {
      "cell_type": "code",
      "execution_count": 3,
      "metadata": {
        "colab": {
          "base_uri": "https://localhost:8080/",
          "height": 832
        },
        "id": "0Jm4J7BPXnzF",
        "outputId": "b19c7bf9-6f5f-48f9-cc7b-9e958d064d63"
      },
      "outputs": [
        {
          "data": {
            "text/html": [
              "<div>\n",
              "<style scoped>\n",
              "    .dataframe tbody tr th:only-of-type {\n",
              "        vertical-align: middle;\n",
              "    }\n",
              "\n",
              "    .dataframe tbody tr th {\n",
              "        vertical-align: top;\n",
              "    }\n",
              "\n",
              "    .dataframe thead th {\n",
              "        text-align: right;\n",
              "    }\n",
              "</style>\n",
              "<table border=\"1\" class=\"dataframe\">\n",
              "  <thead>\n",
              "    <tr style=\"text-align: right;\">\n",
              "      <th></th>\n",
              "      <th>Product Name</th>\n",
              "      <th>Product ID</th>\n",
              "      <th>Listing Price</th>\n",
              "      <th>Sale Price</th>\n",
              "      <th>Discount</th>\n",
              "      <th>Brand</th>\n",
              "      <th>Description</th>\n",
              "      <th>Rating</th>\n",
              "      <th>Reviews</th>\n",
              "      <th>Last Visited</th>\n",
              "      <th>Unnamed: 10</th>\n",
              "    </tr>\n",
              "  </thead>\n",
              "  <tbody>\n",
              "    <tr>\n",
              "      <th>0</th>\n",
              "      <td>Women's adidas Originals NMD_Racer Primeknit S...</td>\n",
              "      <td>AH2430</td>\n",
              "      <td>14999</td>\n",
              "      <td>7499</td>\n",
              "      <td>50</td>\n",
              "      <td>Adidas Adidas ORIGINALS</td>\n",
              "      <td>Channeling the streamlined look of an '80s rac...</td>\n",
              "      <td>4.8</td>\n",
              "      <td>41</td>\n",
              "      <td>2020-04-13T15:06:14</td>\n",
              "      <td>NaN</td>\n",
              "    </tr>\n",
              "    <tr>\n",
              "      <th>1</th>\n",
              "      <td>Women's adidas Originals Sleek Shoes</td>\n",
              "      <td>G27341</td>\n",
              "      <td>7599</td>\n",
              "      <td>3799</td>\n",
              "      <td>50</td>\n",
              "      <td>Adidas ORIGINALS</td>\n",
              "      <td>A modern take on adidas sport heritage, tailor...</td>\n",
              "      <td>3.3</td>\n",
              "      <td>24</td>\n",
              "      <td>2020-04-13T15:06:15</td>\n",
              "      <td>NaN</td>\n",
              "    </tr>\n",
              "    <tr>\n",
              "      <th>2</th>\n",
              "      <td>Women's adidas Swim Puka Slippers</td>\n",
              "      <td>CM0081</td>\n",
              "      <td>999</td>\n",
              "      <td>599</td>\n",
              "      <td>40</td>\n",
              "      <td>Adidas CORE / NEO</td>\n",
              "      <td>These adidas Puka slippers for women's come wi...</td>\n",
              "      <td>2.6</td>\n",
              "      <td>37</td>\n",
              "      <td>2020-04-13T15:06:15</td>\n",
              "      <td>NaN</td>\n",
              "    </tr>\n",
              "    <tr>\n",
              "      <th>3</th>\n",
              "      <td>Women's adidas Sport Inspired Questar Ride Shoes</td>\n",
              "      <td>B44832</td>\n",
              "      <td>6999</td>\n",
              "      <td>3499</td>\n",
              "      <td>50</td>\n",
              "      <td>Adidas CORE / NEO</td>\n",
              "      <td>Inspired by modern tech runners, these women's...</td>\n",
              "      <td>4.1</td>\n",
              "      <td>35</td>\n",
              "      <td>2020-04-13T15:06:15</td>\n",
              "      <td>NaN</td>\n",
              "    </tr>\n",
              "    <tr>\n",
              "      <th>4</th>\n",
              "      <td>Women's adidas Originals Taekwondo Shoes</td>\n",
              "      <td>D98205</td>\n",
              "      <td>7999</td>\n",
              "      <td>3999</td>\n",
              "      <td>50</td>\n",
              "      <td>Adidas ORIGINALS</td>\n",
              "      <td>This design is inspired by vintage Taekwondo s...</td>\n",
              "      <td>3.5</td>\n",
              "      <td>72</td>\n",
              "      <td>2020-04-13T15:06:15</td>\n",
              "      <td>NaN</td>\n",
              "    </tr>\n",
              "    <tr>\n",
              "      <th>...</th>\n",
              "      <td>...</td>\n",
              "      <td>...</td>\n",
              "      <td>...</td>\n",
              "      <td>...</td>\n",
              "      <td>...</td>\n",
              "      <td>...</td>\n",
              "      <td>...</td>\n",
              "      <td>...</td>\n",
              "      <td>...</td>\n",
              "      <td>...</td>\n",
              "      <td>...</td>\n",
              "    </tr>\n",
              "    <tr>\n",
              "      <th>3263</th>\n",
              "      <td>Air Jordan 8 Retro</td>\n",
              "      <td>CI1236-100</td>\n",
              "      <td>15995</td>\n",
              "      <td>12797</td>\n",
              "      <td>0</td>\n",
              "      <td>Nike</td>\n",
              "      <td>The Air Jordan 8 Retro recaptures the memorabl...</td>\n",
              "      <td>5.0</td>\n",
              "      <td>1</td>\n",
              "      <td>2020-04-13T15:41:01</td>\n",
              "      <td>NaN</td>\n",
              "    </tr>\n",
              "    <tr>\n",
              "      <th>3264</th>\n",
              "      <td>Nike Phantom Venom Club IC</td>\n",
              "      <td>AO0578-717</td>\n",
              "      <td>4995</td>\n",
              "      <td>3497</td>\n",
              "      <td>0</td>\n",
              "      <td>Nike</td>\n",
              "      <td>The Nike Phantom Venom Club IC is engineered f...</td>\n",
              "      <td>0.0</td>\n",
              "      <td>0</td>\n",
              "      <td>2020-04-13T15:41:03</td>\n",
              "      <td>NaN</td>\n",
              "    </tr>\n",
              "    <tr>\n",
              "      <th>3265</th>\n",
              "      <td>Nike Mercurial Superfly 7 Academy TF</td>\n",
              "      <td>AT7978-414</td>\n",
              "      <td>8495</td>\n",
              "      <td>5947</td>\n",
              "      <td>0</td>\n",
              "      <td>Nike</td>\n",
              "      <td>The soft upper of the Nike Mercurial Superfly ...</td>\n",
              "      <td>5.0</td>\n",
              "      <td>1</td>\n",
              "      <td>2020-04-13T15:41:07</td>\n",
              "      <td>NaN</td>\n",
              "    </tr>\n",
              "    <tr>\n",
              "      <th>3266</th>\n",
              "      <td>Nike Air Max 98</td>\n",
              "      <td>AH6799-300</td>\n",
              "      <td>0</td>\n",
              "      <td>16995</td>\n",
              "      <td>0</td>\n",
              "      <td>Nike</td>\n",
              "      <td>The Nike Air Max 98 features the OG design lin...</td>\n",
              "      <td>4.0</td>\n",
              "      <td>4</td>\n",
              "      <td>2020-04-13T15:41:19</td>\n",
              "      <td>NaN</td>\n",
              "    </tr>\n",
              "    <tr>\n",
              "      <th>3267</th>\n",
              "      <td>Nike P-6000 SE</td>\n",
              "      <td>CJ9585-600</td>\n",
              "      <td>8995</td>\n",
              "      <td>6297</td>\n",
              "      <td>0</td>\n",
              "      <td>Nike</td>\n",
              "      <td>A mash-up of Pegasus' past, the Nike P-6000 SE...</td>\n",
              "      <td>0.0</td>\n",
              "      <td>0</td>\n",
              "      <td>2020-04-13T15:42:57</td>\n",
              "      <td>NaN</td>\n",
              "    </tr>\n",
              "  </tbody>\n",
              "</table>\n",
              "<p>3268 rows × 11 columns</p>\n",
              "</div>"
            ],
            "text/plain": [
              "                                           Product Name  Product ID  \\\n",
              "0     Women's adidas Originals NMD_Racer Primeknit S...      AH2430   \n",
              "1                  Women's adidas Originals Sleek Shoes      G27341   \n",
              "2                     Women's adidas Swim Puka Slippers      CM0081   \n",
              "3      Women's adidas Sport Inspired Questar Ride Shoes      B44832   \n",
              "4              Women's adidas Originals Taekwondo Shoes      D98205   \n",
              "...                                                 ...         ...   \n",
              "3263                                 Air Jordan 8 Retro  CI1236-100   \n",
              "3264                         Nike Phantom Venom Club IC  AO0578-717   \n",
              "3265               Nike Mercurial Superfly 7 Academy TF  AT7978-414   \n",
              "3266                                    Nike Air Max 98  AH6799-300   \n",
              "3267                                     Nike P-6000 SE  CJ9585-600   \n",
              "\n",
              "      Listing Price  Sale Price  Discount                    Brand  \\\n",
              "0             14999        7499        50  Adidas Adidas ORIGINALS   \n",
              "1              7599        3799        50         Adidas ORIGINALS   \n",
              "2               999         599        40        Adidas CORE / NEO   \n",
              "3              6999        3499        50        Adidas CORE / NEO   \n",
              "4              7999        3999        50         Adidas ORIGINALS   \n",
              "...             ...         ...       ...                      ...   \n",
              "3263          15995       12797         0                     Nike   \n",
              "3264           4995        3497         0                     Nike   \n",
              "3265           8495        5947         0                     Nike   \n",
              "3266              0       16995         0                     Nike   \n",
              "3267           8995        6297         0                     Nike   \n",
              "\n",
              "                                            Description  Rating  Reviews  \\\n",
              "0     Channeling the streamlined look of an '80s rac...     4.8       41   \n",
              "1     A modern take on adidas sport heritage, tailor...     3.3       24   \n",
              "2     These adidas Puka slippers for women's come wi...     2.6       37   \n",
              "3     Inspired by modern tech runners, these women's...     4.1       35   \n",
              "4     This design is inspired by vintage Taekwondo s...     3.5       72   \n",
              "...                                                 ...     ...      ...   \n",
              "3263  The Air Jordan 8 Retro recaptures the memorabl...     5.0        1   \n",
              "3264  The Nike Phantom Venom Club IC is engineered f...     0.0        0   \n",
              "3265  The soft upper of the Nike Mercurial Superfly ...     5.0        1   \n",
              "3266  The Nike Air Max 98 features the OG design lin...     4.0        4   \n",
              "3267  A mash-up of Pegasus' past, the Nike P-6000 SE...     0.0        0   \n",
              "\n",
              "             Last Visited  Unnamed: 10  \n",
              "0     2020-04-13T15:06:14          NaN  \n",
              "1     2020-04-13T15:06:15          NaN  \n",
              "2     2020-04-13T15:06:15          NaN  \n",
              "3     2020-04-13T15:06:15          NaN  \n",
              "4     2020-04-13T15:06:15          NaN  \n",
              "...                   ...          ...  \n",
              "3263  2020-04-13T15:41:01          NaN  \n",
              "3264  2020-04-13T15:41:03          NaN  \n",
              "3265  2020-04-13T15:41:07          NaN  \n",
              "3266  2020-04-13T15:41:19          NaN  \n",
              "3267  2020-04-13T15:42:57          NaN  \n",
              "\n",
              "[3268 rows x 11 columns]"
            ]
          },
          "execution_count": 3,
          "metadata": {},
          "output_type": "execute_result"
        }
      ],
      "source": [
        "Adidas_Nike"
      ]
    },
    {
      "cell_type": "code",
      "execution_count": 4,
      "metadata": {
        "colab": {
          "base_uri": "https://localhost:8080/"
        },
        "id": "x4wtOLLiVxqV",
        "outputId": "c36e0201-cfa7-4d65-8a00-106b2d2b23b5"
      },
      "outputs": [
        {
          "name": "stdout",
          "output_type": "stream",
          "text": [
            "<class 'pandas.core.frame.DataFrame'>\n",
            "RangeIndex: 3268 entries, 0 to 3267\n",
            "Data columns (total 11 columns):\n",
            " #   Column         Non-Null Count  Dtype  \n",
            "---  ------         --------------  -----  \n",
            " 0   Product Name   3268 non-null   object \n",
            " 1   Product ID     3268 non-null   object \n",
            " 2   Listing Price  3268 non-null   int64  \n",
            " 3   Sale Price     3268 non-null   int64  \n",
            " 4   Discount       3268 non-null   int64  \n",
            " 5   Brand          3268 non-null   object \n",
            " 6   Description    3265 non-null   object \n",
            " 7   Rating         3268 non-null   float64\n",
            " 8   Reviews        3268 non-null   int64  \n",
            " 9   Last Visited   3268 non-null   object \n",
            " 10  Unnamed: 10    0 non-null      float64\n",
            "dtypes: float64(2), int64(4), object(5)\n",
            "memory usage: 281.0+ KB\n"
          ]
        }
      ],
      "source": [
        "Adidas_Nike.info()"
      ]
    },
    {
      "cell_type": "code",
      "execution_count": 5,
      "metadata": {
        "colab": {
          "base_uri": "https://localhost:8080/",
          "height": 300
        },
        "id": "-Iv203j1Xhnn",
        "outputId": "aeff0f11-99c7-49c9-b10c-89cd73209f55"
      },
      "outputs": [
        {
          "data": {
            "text/html": [
              "<div>\n",
              "<style scoped>\n",
              "    .dataframe tbody tr th:only-of-type {\n",
              "        vertical-align: middle;\n",
              "    }\n",
              "\n",
              "    .dataframe tbody tr th {\n",
              "        vertical-align: top;\n",
              "    }\n",
              "\n",
              "    .dataframe thead th {\n",
              "        text-align: right;\n",
              "    }\n",
              "</style>\n",
              "<table border=\"1\" class=\"dataframe\">\n",
              "  <thead>\n",
              "    <tr style=\"text-align: right;\">\n",
              "      <th></th>\n",
              "      <th>Listing Price</th>\n",
              "      <th>Sale Price</th>\n",
              "      <th>Discount</th>\n",
              "      <th>Rating</th>\n",
              "      <th>Reviews</th>\n",
              "      <th>Unnamed: 10</th>\n",
              "    </tr>\n",
              "  </thead>\n",
              "  <tbody>\n",
              "    <tr>\n",
              "      <th>count</th>\n",
              "      <td>3268.000000</td>\n",
              "      <td>3268.000000</td>\n",
              "      <td>3268.000000</td>\n",
              "      <td>3268.000000</td>\n",
              "      <td>3268.000000</td>\n",
              "      <td>0.0</td>\n",
              "    </tr>\n",
              "    <tr>\n",
              "      <th>mean</th>\n",
              "      <td>6868.020196</td>\n",
              "      <td>6134.265606</td>\n",
              "      <td>26.875765</td>\n",
              "      <td>3.242105</td>\n",
              "      <td>40.551714</td>\n",
              "      <td>NaN</td>\n",
              "    </tr>\n",
              "    <tr>\n",
              "      <th>std</th>\n",
              "      <td>4724.659386</td>\n",
              "      <td>4293.247581</td>\n",
              "      <td>22.633487</td>\n",
              "      <td>1.428856</td>\n",
              "      <td>31.543491</td>\n",
              "      <td>NaN</td>\n",
              "    </tr>\n",
              "    <tr>\n",
              "      <th>min</th>\n",
              "      <td>0.000000</td>\n",
              "      <td>449.000000</td>\n",
              "      <td>0.000000</td>\n",
              "      <td>0.000000</td>\n",
              "      <td>0.000000</td>\n",
              "      <td>NaN</td>\n",
              "    </tr>\n",
              "    <tr>\n",
              "      <th>25%</th>\n",
              "      <td>4299.000000</td>\n",
              "      <td>2999.000000</td>\n",
              "      <td>0.000000</td>\n",
              "      <td>2.600000</td>\n",
              "      <td>10.000000</td>\n",
              "      <td>NaN</td>\n",
              "    </tr>\n",
              "    <tr>\n",
              "      <th>50%</th>\n",
              "      <td>5999.000000</td>\n",
              "      <td>4799.000000</td>\n",
              "      <td>40.000000</td>\n",
              "      <td>3.500000</td>\n",
              "      <td>37.000000</td>\n",
              "      <td>NaN</td>\n",
              "    </tr>\n",
              "    <tr>\n",
              "      <th>75%</th>\n",
              "      <td>8999.000000</td>\n",
              "      <td>7995.000000</td>\n",
              "      <td>50.000000</td>\n",
              "      <td>4.400000</td>\n",
              "      <td>68.000000</td>\n",
              "      <td>NaN</td>\n",
              "    </tr>\n",
              "    <tr>\n",
              "      <th>max</th>\n",
              "      <td>29999.000000</td>\n",
              "      <td>36500.000000</td>\n",
              "      <td>60.000000</td>\n",
              "      <td>5.000000</td>\n",
              "      <td>223.000000</td>\n",
              "      <td>NaN</td>\n",
              "    </tr>\n",
              "  </tbody>\n",
              "</table>\n",
              "</div>"
            ],
            "text/plain": [
              "       Listing Price    Sale Price     Discount       Rating      Reviews  \\\n",
              "count    3268.000000   3268.000000  3268.000000  3268.000000  3268.000000   \n",
              "mean     6868.020196   6134.265606    26.875765     3.242105    40.551714   \n",
              "std      4724.659386   4293.247581    22.633487     1.428856    31.543491   \n",
              "min         0.000000    449.000000     0.000000     0.000000     0.000000   \n",
              "25%      4299.000000   2999.000000     0.000000     2.600000    10.000000   \n",
              "50%      5999.000000   4799.000000    40.000000     3.500000    37.000000   \n",
              "75%      8999.000000   7995.000000    50.000000     4.400000    68.000000   \n",
              "max     29999.000000  36500.000000    60.000000     5.000000   223.000000   \n",
              "\n",
              "       Unnamed: 10  \n",
              "count          0.0  \n",
              "mean           NaN  \n",
              "std            NaN  \n",
              "min            NaN  \n",
              "25%            NaN  \n",
              "50%            NaN  \n",
              "75%            NaN  \n",
              "max            NaN  "
            ]
          },
          "execution_count": 5,
          "metadata": {},
          "output_type": "execute_result"
        }
      ],
      "source": [
        "Adidas_Nike.describe()"
      ]
    },
    {
      "cell_type": "markdown",
      "metadata": {
        "id": "l_DRoIWLY29o"
      },
      "source": [
        "### <h1 style=\"color:mediumaquamarine;\"> _2. Kiểm tra và xử lý các giá trị NaN_ </h1>"
      ]
    },
    {
      "cell_type": "code",
      "execution_count": 6,
      "metadata": {
        "colab": {
          "base_uri": "https://localhost:8080/"
        },
        "id": "PjRGt1V91Hkz",
        "outputId": "64a4155e-7454-4c34-edf4-8930e2bd168a"
      },
      "outputs": [
        {
          "data": {
            "text/plain": [
              "Product Name        0\n",
              "Product ID          0\n",
              "Listing Price       0\n",
              "Sale Price          0\n",
              "Discount            0\n",
              "Brand               0\n",
              "Description         3\n",
              "Rating              0\n",
              "Reviews             0\n",
              "Last Visited        0\n",
              "Unnamed: 10      3268\n",
              "dtype: int64"
            ]
          },
          "execution_count": 6,
          "metadata": {},
          "output_type": "execute_result"
        }
      ],
      "source": [
        "Adidas_Nike.isnull().sum()"
      ]
    },
    {
      "cell_type": "markdown",
      "metadata": {
        "id": "HPrg32XHX0vk"
      },
      "source": [
        "* <p style=\"color:deeppink;\"> Có 3 sản phẩm bị thiếu mô tả trong cột Description </p>\n",
        "* <p style=\"color:deeppink;\"> Có 3268 giá trị trong cột Unnamed:10 bị NaN </p>\n",
        "* <p style=\"color:deeppink;\"> 2 cột trên và cột Last Visited không cần thiết </p>\n",
        "* <p style=\"color:deeppink;\"> Vì vậy, nên sẽ xóa 3 cột khỏi bảng. </p>"
      ]
    },
    {
      "cell_type": "code",
      "execution_count": 7,
      "metadata": {
        "id": "jp1EQg_9YexF"
      },
      "outputs": [],
      "source": [
        "Adidas_Nike=Adidas_Nike.drop (['Description','Last Visited','Unnamed: 10'],axis=1)"
      ]
    },
    {
      "cell_type": "markdown",
      "metadata": {
        "id": "jMwv95UPZhKy"
      },
      "source": [
        "### <h1 style=\"color:mediumaquamarine;\"> _3. Xử lý các biến dư thừa_ </h1>"
      ]
    },
    {
      "cell_type": "markdown",
      "metadata": {
        "id": "7Z3eviTVF0cK"
      },
      "source": [
        "* <p style=\"color:deeppink;\"> Một thương hiệu con của Adidas bị lặp lại 2 lần: \"Adidas Adidas ORIGINALS\" và \"Adidas Originals\", vì \"Adidas Adidas ORIGINALS\" chỉ có 1 sản phẩm, trong khi đó \"Adidas Originals\" gồm nhiều sản phẩm. Nên cần phải chỉnh sửa tên thương hiệu. </p>"
      ]
    },
    {
      "cell_type": "code",
      "execution_count": 8,
      "metadata": {
        "colab": {
          "base_uri": "https://localhost:8080/"
        },
        "id": "TY5qneWtGsIv",
        "outputId": "109f930b-d170-4ca2-a806-86b3b59f007c"
      },
      "outputs": [
        {
          "data": {
            "text/plain": [
              "array(['Adidas Adidas ORIGINALS', 'Adidas ORIGINALS', 'Adidas CORE / NEO',\n",
              "       'Adidas SPORT PERFORMANCE', 'Nike'], dtype=object)"
            ]
          },
          "execution_count": 8,
          "metadata": {},
          "output_type": "execute_result"
        }
      ],
      "source": [
        "Adidas_Nike['Brand'].unique()"
      ]
    },
    {
      "cell_type": "code",
      "execution_count": 9,
      "metadata": {
        "colab": {
          "base_uri": "https://localhost:8080/"
        },
        "id": "hUZ0_KGhHYW1",
        "outputId": "ddc28e83-4409-4743-dfa5-323c7ffbf21a"
      },
      "outputs": [
        {
          "name": "stdout",
          "output_type": "stream",
          "text": [
            "Số lượng sản phẩm: 1\n",
            "Tên sản phẩm: Women's adidas Originals NMD_Racer Primeknit Shoes\n"
          ]
        }
      ],
      "source": [
        "count=0\n",
        "for product in Adidas_Nike.values:\n",
        "  if product[5]=='Adidas Adidas ORIGINALS':\n",
        "    count+=1\n",
        "    print('Số lượng sản phẩm:',count)\n",
        "    print('Tên sản phẩm:',product[0])"
      ]
    },
    {
      "cell_type": "code",
      "execution_count": 10,
      "metadata": {
        "id": "66-f46ING132"
      },
      "outputs": [],
      "source": [
        "Adidas_Nike['Brand'].replace('Adidas Adidas ORIGINALS','Adidas ORIGINALS',inplace=True)"
      ]
    },
    {
      "cell_type": "markdown",
      "metadata": {
        "id": "cIIrzPgccEeG"
      },
      "source": [
        "### <h1 style=\"color:mediumaquamarine;\"> _4. Xử lý dòng bị trùng lặp_ </h1>"
      ]
    },
    {
      "cell_type": "code",
      "execution_count": 11,
      "metadata": {
        "colab": {
          "base_uri": "https://localhost:8080/",
          "height": 424
        },
        "id": "-MGOP8vz6VM5",
        "outputId": "4d267961-00e5-4437-d37d-d52a89f6dbe8"
      },
      "outputs": [
        {
          "data": {
            "text/html": [
              "<div>\n",
              "<style scoped>\n",
              "    .dataframe tbody tr th:only-of-type {\n",
              "        vertical-align: middle;\n",
              "    }\n",
              "\n",
              "    .dataframe tbody tr th {\n",
              "        vertical-align: top;\n",
              "    }\n",
              "\n",
              "    .dataframe thead th {\n",
              "        text-align: right;\n",
              "    }\n",
              "</style>\n",
              "<table border=\"1\" class=\"dataframe\">\n",
              "  <thead>\n",
              "    <tr style=\"text-align: right;\">\n",
              "      <th></th>\n",
              "      <th>Product Name</th>\n",
              "      <th>Product ID</th>\n",
              "      <th>Listing Price</th>\n",
              "      <th>Sale Price</th>\n",
              "      <th>Discount</th>\n",
              "      <th>Brand</th>\n",
              "      <th>Rating</th>\n",
              "      <th>Reviews</th>\n",
              "    </tr>\n",
              "  </thead>\n",
              "  <tbody>\n",
              "    <tr>\n",
              "      <th>2792</th>\n",
              "      <td>Nike Metcon 5 AMP</td>\n",
              "      <td>CD3395-006</td>\n",
              "      <td>0</td>\n",
              "      <td>11995</td>\n",
              "      <td>0</td>\n",
              "      <td>Nike</td>\n",
              "      <td>5.0</td>\n",
              "      <td>2</td>\n",
              "    </tr>\n",
              "    <tr>\n",
              "      <th>2861</th>\n",
              "      <td>Nike Mercurial Vapor 13 Club Neymar Jr. TF</td>\n",
              "      <td>AT8000-104</td>\n",
              "      <td>0</td>\n",
              "      <td>5495</td>\n",
              "      <td>0</td>\n",
              "      <td>Nike</td>\n",
              "      <td>0.0</td>\n",
              "      <td>0</td>\n",
              "    </tr>\n",
              "    <tr>\n",
              "      <th>2862</th>\n",
              "      <td>Nike Mercurial Vapor 13 Elite Neymar Jr. FG</td>\n",
              "      <td>AT7898-104</td>\n",
              "      <td>0</td>\n",
              "      <td>22995</td>\n",
              "      <td>0</td>\n",
              "      <td>Nike</td>\n",
              "      <td>0.0</td>\n",
              "      <td>0</td>\n",
              "    </tr>\n",
              "    <tr>\n",
              "      <th>2863</th>\n",
              "      <td>Nike Mercurial Vapor 13 Academy Neymar Jr. TF</td>\n",
              "      <td>AT7995-104</td>\n",
              "      <td>0</td>\n",
              "      <td>7995</td>\n",
              "      <td>0</td>\n",
              "      <td>Nike</td>\n",
              "      <td>0.0</td>\n",
              "      <td>0</td>\n",
              "    </tr>\n",
              "    <tr>\n",
              "      <th>2864</th>\n",
              "      <td>Nike Mercurial Vapor 13 Academy Neymar Jr. MG</td>\n",
              "      <td>AT7960-104</td>\n",
              "      <td>0</td>\n",
              "      <td>7995</td>\n",
              "      <td>0</td>\n",
              "      <td>Nike</td>\n",
              "      <td>0.0</td>\n",
              "      <td>0</td>\n",
              "    </tr>\n",
              "    <tr>\n",
              "      <th>...</th>\n",
              "      <td>...</td>\n",
              "      <td>...</td>\n",
              "      <td>...</td>\n",
              "      <td>...</td>\n",
              "      <td>...</td>\n",
              "      <td>...</td>\n",
              "      <td>...</td>\n",
              "      <td>...</td>\n",
              "    </tr>\n",
              "    <tr>\n",
              "      <th>3258</th>\n",
              "      <td>Nike ZoomX Vaporfly NEXT%</td>\n",
              "      <td>AO4568-600</td>\n",
              "      <td>0</td>\n",
              "      <td>19995</td>\n",
              "      <td>0</td>\n",
              "      <td>Nike</td>\n",
              "      <td>4.7</td>\n",
              "      <td>45</td>\n",
              "    </tr>\n",
              "    <tr>\n",
              "      <th>3259</th>\n",
              "      <td>Nike Mercurial Vapor 13 Academy IC</td>\n",
              "      <td>AT7993-414</td>\n",
              "      <td>7495</td>\n",
              "      <td>5247</td>\n",
              "      <td>0</td>\n",
              "      <td>Nike</td>\n",
              "      <td>0.0</td>\n",
              "      <td>0</td>\n",
              "    </tr>\n",
              "    <tr>\n",
              "      <th>3261</th>\n",
              "      <td>Kyrie 6 'Enlightenment'</td>\n",
              "      <td>BQ4630-500</td>\n",
              "      <td>10995</td>\n",
              "      <td>8797</td>\n",
              "      <td>0</td>\n",
              "      <td>Nike</td>\n",
              "      <td>4.4</td>\n",
              "      <td>10</td>\n",
              "    </tr>\n",
              "    <tr>\n",
              "      <th>3264</th>\n",
              "      <td>Nike Phantom Venom Club IC</td>\n",
              "      <td>AO0578-717</td>\n",
              "      <td>4995</td>\n",
              "      <td>3497</td>\n",
              "      <td>0</td>\n",
              "      <td>Nike</td>\n",
              "      <td>0.0</td>\n",
              "      <td>0</td>\n",
              "    </tr>\n",
              "    <tr>\n",
              "      <th>3265</th>\n",
              "      <td>Nike Mercurial Superfly 7 Academy TF</td>\n",
              "      <td>AT7978-414</td>\n",
              "      <td>8495</td>\n",
              "      <td>5947</td>\n",
              "      <td>0</td>\n",
              "      <td>Nike</td>\n",
              "      <td>5.0</td>\n",
              "      <td>1</td>\n",
              "    </tr>\n",
              "  </tbody>\n",
              "</table>\n",
              "<p>88 rows × 8 columns</p>\n",
              "</div>"
            ],
            "text/plain": [
              "                                       Product Name  Product ID  \\\n",
              "2792                              Nike Metcon 5 AMP  CD3395-006   \n",
              "2861     Nike Mercurial Vapor 13 Club Neymar Jr. TF  AT8000-104   \n",
              "2862    Nike Mercurial Vapor 13 Elite Neymar Jr. FG  AT7898-104   \n",
              "2863  Nike Mercurial Vapor 13 Academy Neymar Jr. TF  AT7995-104   \n",
              "2864  Nike Mercurial Vapor 13 Academy Neymar Jr. MG  AT7960-104   \n",
              "...                                             ...         ...   \n",
              "3258                      Nike ZoomX Vaporfly NEXT%  AO4568-600   \n",
              "3259             Nike Mercurial Vapor 13 Academy IC  AT7993-414   \n",
              "3261                        Kyrie 6 'Enlightenment'  BQ4630-500   \n",
              "3264                     Nike Phantom Venom Club IC  AO0578-717   \n",
              "3265           Nike Mercurial Superfly 7 Academy TF  AT7978-414   \n",
              "\n",
              "      Listing Price  Sale Price  Discount Brand  Rating  Reviews  \n",
              "2792              0       11995         0  Nike     5.0        2  \n",
              "2861              0        5495         0  Nike     0.0        0  \n",
              "2862              0       22995         0  Nike     0.0        0  \n",
              "2863              0        7995         0  Nike     0.0        0  \n",
              "2864              0        7995         0  Nike     0.0        0  \n",
              "...             ...         ...       ...   ...     ...      ...  \n",
              "3258              0       19995         0  Nike     4.7       45  \n",
              "3259           7495        5247         0  Nike     0.0        0  \n",
              "3261          10995        8797         0  Nike     4.4       10  \n",
              "3264           4995        3497         0  Nike     0.0        0  \n",
              "3265           8495        5947         0  Nike     5.0        1  \n",
              "\n",
              "[88 rows x 8 columns]"
            ]
          },
          "execution_count": 11,
          "metadata": {},
          "output_type": "execute_result"
        }
      ],
      "source": [
        "trung_lap=Adidas_Nike[Adidas_Nike.duplicated(subset=['Product Name','Product ID','Listing Price','Sale Price','Discount','Brand','Rating','Reviews'])]\n",
        "trung_lap"
      ]
    },
    {
      "cell_type": "code",
      "execution_count": 12,
      "metadata": {
        "id": "fKj_FXClccaf"
      },
      "outputs": [],
      "source": [
        "Adidas_Nike.drop_duplicates(subset=['Product Name','Product ID','Listing Price','Sale Price','Discount','Brand','Rating','Reviews'],inplace=True)"
      ]
    },
    {
      "cell_type": "markdown",
      "metadata": {
        "id": "QyEOXmlk3fFK"
      },
      "source": [
        "### <h1 style=\"color:mediumaquamarine;\"> _5. Chuyển đổi định dạng số_ </h1>"
      ]
    },
    {
      "cell_type": "markdown",
      "metadata": {
        "id": "ELgewNZ93kp-"
      },
      "source": [
        "* <p style=\"color:deeppink;\"> Sau khi kiểm tra, nhận thấy Listing Price và Sale Price không ở đúng định dạng. Để có định dạng chính xác của số tiền, chia cột Listing Price và Sale Price cho 100.</p>"
      ]
    },
    {
      "cell_type": "code",
      "execution_count": 13,
      "metadata": {
        "id": "AZKyIRi13kDb"
      },
      "outputs": [],
      "source": [
        "Adidas_Nike[['Listing Price', 'Sale Price']]=Adidas_Nike[['Listing Price' , 'Sale Price']].apply(lambda x: x/100)"
      ]
    },
    {
      "cell_type": "code",
      "execution_count": 14,
      "metadata": {
        "colab": {
          "base_uri": "https://localhost:8080/",
          "height": 424
        },
        "id": "ZHSNa_rO4F6R",
        "outputId": "bd6b8a33-2983-4c94-95fc-4f5ca980d16b"
      },
      "outputs": [
        {
          "data": {
            "text/html": [
              "<div>\n",
              "<style scoped>\n",
              "    .dataframe tbody tr th:only-of-type {\n",
              "        vertical-align: middle;\n",
              "    }\n",
              "\n",
              "    .dataframe tbody tr th {\n",
              "        vertical-align: top;\n",
              "    }\n",
              "\n",
              "    .dataframe thead th {\n",
              "        text-align: right;\n",
              "    }\n",
              "</style>\n",
              "<table border=\"1\" class=\"dataframe\">\n",
              "  <thead>\n",
              "    <tr style=\"text-align: right;\">\n",
              "      <th></th>\n",
              "      <th>Product Name</th>\n",
              "      <th>Product ID</th>\n",
              "      <th>Listing Price</th>\n",
              "      <th>Sale Price</th>\n",
              "      <th>Discount</th>\n",
              "      <th>Brand</th>\n",
              "      <th>Rating</th>\n",
              "      <th>Reviews</th>\n",
              "    </tr>\n",
              "  </thead>\n",
              "  <tbody>\n",
              "    <tr>\n",
              "      <th>0</th>\n",
              "      <td>Women's adidas Originals NMD_Racer Primeknit S...</td>\n",
              "      <td>AH2430</td>\n",
              "      <td>149.99</td>\n",
              "      <td>74.99</td>\n",
              "      <td>50</td>\n",
              "      <td>Adidas ORIGINALS</td>\n",
              "      <td>4.8</td>\n",
              "      <td>41</td>\n",
              "    </tr>\n",
              "    <tr>\n",
              "      <th>1</th>\n",
              "      <td>Women's adidas Originals Sleek Shoes</td>\n",
              "      <td>G27341</td>\n",
              "      <td>75.99</td>\n",
              "      <td>37.99</td>\n",
              "      <td>50</td>\n",
              "      <td>Adidas ORIGINALS</td>\n",
              "      <td>3.3</td>\n",
              "      <td>24</td>\n",
              "    </tr>\n",
              "    <tr>\n",
              "      <th>2</th>\n",
              "      <td>Women's adidas Swim Puka Slippers</td>\n",
              "      <td>CM0081</td>\n",
              "      <td>9.99</td>\n",
              "      <td>5.99</td>\n",
              "      <td>40</td>\n",
              "      <td>Adidas CORE / NEO</td>\n",
              "      <td>2.6</td>\n",
              "      <td>37</td>\n",
              "    </tr>\n",
              "    <tr>\n",
              "      <th>3</th>\n",
              "      <td>Women's adidas Sport Inspired Questar Ride Shoes</td>\n",
              "      <td>B44832</td>\n",
              "      <td>69.99</td>\n",
              "      <td>34.99</td>\n",
              "      <td>50</td>\n",
              "      <td>Adidas CORE / NEO</td>\n",
              "      <td>4.1</td>\n",
              "      <td>35</td>\n",
              "    </tr>\n",
              "    <tr>\n",
              "      <th>4</th>\n",
              "      <td>Women's adidas Originals Taekwondo Shoes</td>\n",
              "      <td>D98205</td>\n",
              "      <td>79.99</td>\n",
              "      <td>39.99</td>\n",
              "      <td>50</td>\n",
              "      <td>Adidas ORIGINALS</td>\n",
              "      <td>3.5</td>\n",
              "      <td>72</td>\n",
              "    </tr>\n",
              "    <tr>\n",
              "      <th>...</th>\n",
              "      <td>...</td>\n",
              "      <td>...</td>\n",
              "      <td>...</td>\n",
              "      <td>...</td>\n",
              "      <td>...</td>\n",
              "      <td>...</td>\n",
              "      <td>...</td>\n",
              "      <td>...</td>\n",
              "    </tr>\n",
              "    <tr>\n",
              "      <th>3260</th>\n",
              "      <td>Nike Tiempo Legend 8 Academy TF</td>\n",
              "      <td>AT6100-606</td>\n",
              "      <td>0.00</td>\n",
              "      <td>64.95</td>\n",
              "      <td>0</td>\n",
              "      <td>Nike</td>\n",
              "      <td>0.0</td>\n",
              "      <td>0</td>\n",
              "    </tr>\n",
              "    <tr>\n",
              "      <th>3262</th>\n",
              "      <td>Nike React Metcon AMP</td>\n",
              "      <td>CT9155-063</td>\n",
              "      <td>0.00</td>\n",
              "      <td>139.95</td>\n",
              "      <td>0</td>\n",
              "      <td>Nike</td>\n",
              "      <td>3.0</td>\n",
              "      <td>1</td>\n",
              "    </tr>\n",
              "    <tr>\n",
              "      <th>3263</th>\n",
              "      <td>Air Jordan 8 Retro</td>\n",
              "      <td>CI1236-100</td>\n",
              "      <td>159.95</td>\n",
              "      <td>127.97</td>\n",
              "      <td>0</td>\n",
              "      <td>Nike</td>\n",
              "      <td>5.0</td>\n",
              "      <td>1</td>\n",
              "    </tr>\n",
              "    <tr>\n",
              "      <th>3266</th>\n",
              "      <td>Nike Air Max 98</td>\n",
              "      <td>AH6799-300</td>\n",
              "      <td>0.00</td>\n",
              "      <td>169.95</td>\n",
              "      <td>0</td>\n",
              "      <td>Nike</td>\n",
              "      <td>4.0</td>\n",
              "      <td>4</td>\n",
              "    </tr>\n",
              "    <tr>\n",
              "      <th>3267</th>\n",
              "      <td>Nike P-6000 SE</td>\n",
              "      <td>CJ9585-600</td>\n",
              "      <td>89.95</td>\n",
              "      <td>62.97</td>\n",
              "      <td>0</td>\n",
              "      <td>Nike</td>\n",
              "      <td>0.0</td>\n",
              "      <td>0</td>\n",
              "    </tr>\n",
              "  </tbody>\n",
              "</table>\n",
              "<p>3180 rows × 8 columns</p>\n",
              "</div>"
            ],
            "text/plain": [
              "                                           Product Name  Product ID  \\\n",
              "0     Women's adidas Originals NMD_Racer Primeknit S...      AH2430   \n",
              "1                  Women's adidas Originals Sleek Shoes      G27341   \n",
              "2                     Women's adidas Swim Puka Slippers      CM0081   \n",
              "3      Women's adidas Sport Inspired Questar Ride Shoes      B44832   \n",
              "4              Women's adidas Originals Taekwondo Shoes      D98205   \n",
              "...                                                 ...         ...   \n",
              "3260                    Nike Tiempo Legend 8 Academy TF  AT6100-606   \n",
              "3262                              Nike React Metcon AMP  CT9155-063   \n",
              "3263                                 Air Jordan 8 Retro  CI1236-100   \n",
              "3266                                    Nike Air Max 98  AH6799-300   \n",
              "3267                                     Nike P-6000 SE  CJ9585-600   \n",
              "\n",
              "      Listing Price  Sale Price  Discount              Brand  Rating  Reviews  \n",
              "0            149.99       74.99        50   Adidas ORIGINALS     4.8       41  \n",
              "1             75.99       37.99        50   Adidas ORIGINALS     3.3       24  \n",
              "2              9.99        5.99        40  Adidas CORE / NEO     2.6       37  \n",
              "3             69.99       34.99        50  Adidas CORE / NEO     4.1       35  \n",
              "4             79.99       39.99        50   Adidas ORIGINALS     3.5       72  \n",
              "...             ...         ...       ...                ...     ...      ...  \n",
              "3260           0.00       64.95         0               Nike     0.0        0  \n",
              "3262           0.00      139.95         0               Nike     3.0        1  \n",
              "3263         159.95      127.97         0               Nike     5.0        1  \n",
              "3266           0.00      169.95         0               Nike     4.0        4  \n",
              "3267          89.95       62.97         0               Nike     0.0        0  \n",
              "\n",
              "[3180 rows x 8 columns]"
            ]
          },
          "execution_count": 14,
          "metadata": {},
          "output_type": "execute_result"
        }
      ],
      "source": [
        "Adidas_Nike"
      ]
    },
    {
      "cell_type": "markdown",
      "metadata": {
        "id": "U_M9Zq2SR4yS"
      },
      "source": [
        "### <h1 style=\"color:mediumaquamarine;\"> _6. Xử lý các giá trị vô lý_ </h1>"
      ]
    },
    {
      "cell_type": "markdown",
      "metadata": {
        "id": "QSXpkT4BSD7y"
      },
      "source": [
        "* <p style=\"color:deeppink;\"> Có một số dòng dữ liệu, Listing Price có giá trị 0, nó không hợp lý, vì vậy hãy thay thế chúng bằng Sale Price (nếu để ý kỹ những nơi có Listing Price bằng 0 thì Discount cũng bằng 0) </p>"
      ]
    },
    {
      "cell_type": "code",
      "execution_count": 15,
      "metadata": {
        "id": "VEBepBg4SnIZ"
      },
      "outputs": [],
      "source": [
        "Adidas_Nike.loc[Adidas_Nike['Listing Price']==0,'Listing Price']=Adidas_Nike['Sale Price']"
      ]
    },
    {
      "cell_type": "code",
      "execution_count": 16,
      "metadata": {
        "colab": {
          "base_uri": "https://localhost:8080/",
          "height": 424
        },
        "id": "56WwJzrkcq9R",
        "outputId": "f762bf88-573f-4382-d12d-7d7fbd4888cd"
      },
      "outputs": [
        {
          "data": {
            "text/html": [
              "<div>\n",
              "<style scoped>\n",
              "    .dataframe tbody tr th:only-of-type {\n",
              "        vertical-align: middle;\n",
              "    }\n",
              "\n",
              "    .dataframe tbody tr th {\n",
              "        vertical-align: top;\n",
              "    }\n",
              "\n",
              "    .dataframe thead th {\n",
              "        text-align: right;\n",
              "    }\n",
              "</style>\n",
              "<table border=\"1\" class=\"dataframe\">\n",
              "  <thead>\n",
              "    <tr style=\"text-align: right;\">\n",
              "      <th></th>\n",
              "      <th>Product Name</th>\n",
              "      <th>Product ID</th>\n",
              "      <th>Listing Price</th>\n",
              "      <th>Sale Price</th>\n",
              "      <th>Discount</th>\n",
              "      <th>Brand</th>\n",
              "      <th>Rating</th>\n",
              "      <th>Reviews</th>\n",
              "    </tr>\n",
              "  </thead>\n",
              "  <tbody>\n",
              "    <tr>\n",
              "      <th>0</th>\n",
              "      <td>Women's adidas Originals NMD_Racer Primeknit S...</td>\n",
              "      <td>AH2430</td>\n",
              "      <td>149.99</td>\n",
              "      <td>74.99</td>\n",
              "      <td>50</td>\n",
              "      <td>Adidas ORIGINALS</td>\n",
              "      <td>4.8</td>\n",
              "      <td>41</td>\n",
              "    </tr>\n",
              "    <tr>\n",
              "      <th>1</th>\n",
              "      <td>Women's adidas Originals Sleek Shoes</td>\n",
              "      <td>G27341</td>\n",
              "      <td>75.99</td>\n",
              "      <td>37.99</td>\n",
              "      <td>50</td>\n",
              "      <td>Adidas ORIGINALS</td>\n",
              "      <td>3.3</td>\n",
              "      <td>24</td>\n",
              "    </tr>\n",
              "    <tr>\n",
              "      <th>2</th>\n",
              "      <td>Women's adidas Swim Puka Slippers</td>\n",
              "      <td>CM0081</td>\n",
              "      <td>9.99</td>\n",
              "      <td>5.99</td>\n",
              "      <td>40</td>\n",
              "      <td>Adidas CORE / NEO</td>\n",
              "      <td>2.6</td>\n",
              "      <td>37</td>\n",
              "    </tr>\n",
              "    <tr>\n",
              "      <th>3</th>\n",
              "      <td>Women's adidas Sport Inspired Questar Ride Shoes</td>\n",
              "      <td>B44832</td>\n",
              "      <td>69.99</td>\n",
              "      <td>34.99</td>\n",
              "      <td>50</td>\n",
              "      <td>Adidas CORE / NEO</td>\n",
              "      <td>4.1</td>\n",
              "      <td>35</td>\n",
              "    </tr>\n",
              "    <tr>\n",
              "      <th>4</th>\n",
              "      <td>Women's adidas Originals Taekwondo Shoes</td>\n",
              "      <td>D98205</td>\n",
              "      <td>79.99</td>\n",
              "      <td>39.99</td>\n",
              "      <td>50</td>\n",
              "      <td>Adidas ORIGINALS</td>\n",
              "      <td>3.5</td>\n",
              "      <td>72</td>\n",
              "    </tr>\n",
              "    <tr>\n",
              "      <th>...</th>\n",
              "      <td>...</td>\n",
              "      <td>...</td>\n",
              "      <td>...</td>\n",
              "      <td>...</td>\n",
              "      <td>...</td>\n",
              "      <td>...</td>\n",
              "      <td>...</td>\n",
              "      <td>...</td>\n",
              "    </tr>\n",
              "    <tr>\n",
              "      <th>3260</th>\n",
              "      <td>Nike Tiempo Legend 8 Academy TF</td>\n",
              "      <td>AT6100-606</td>\n",
              "      <td>64.95</td>\n",
              "      <td>64.95</td>\n",
              "      <td>0</td>\n",
              "      <td>Nike</td>\n",
              "      <td>0.0</td>\n",
              "      <td>0</td>\n",
              "    </tr>\n",
              "    <tr>\n",
              "      <th>3262</th>\n",
              "      <td>Nike React Metcon AMP</td>\n",
              "      <td>CT9155-063</td>\n",
              "      <td>139.95</td>\n",
              "      <td>139.95</td>\n",
              "      <td>0</td>\n",
              "      <td>Nike</td>\n",
              "      <td>3.0</td>\n",
              "      <td>1</td>\n",
              "    </tr>\n",
              "    <tr>\n",
              "      <th>3263</th>\n",
              "      <td>Air Jordan 8 Retro</td>\n",
              "      <td>CI1236-100</td>\n",
              "      <td>159.95</td>\n",
              "      <td>127.97</td>\n",
              "      <td>0</td>\n",
              "      <td>Nike</td>\n",
              "      <td>5.0</td>\n",
              "      <td>1</td>\n",
              "    </tr>\n",
              "    <tr>\n",
              "      <th>3266</th>\n",
              "      <td>Nike Air Max 98</td>\n",
              "      <td>AH6799-300</td>\n",
              "      <td>169.95</td>\n",
              "      <td>169.95</td>\n",
              "      <td>0</td>\n",
              "      <td>Nike</td>\n",
              "      <td>4.0</td>\n",
              "      <td>4</td>\n",
              "    </tr>\n",
              "    <tr>\n",
              "      <th>3267</th>\n",
              "      <td>Nike P-6000 SE</td>\n",
              "      <td>CJ9585-600</td>\n",
              "      <td>89.95</td>\n",
              "      <td>62.97</td>\n",
              "      <td>0</td>\n",
              "      <td>Nike</td>\n",
              "      <td>0.0</td>\n",
              "      <td>0</td>\n",
              "    </tr>\n",
              "  </tbody>\n",
              "</table>\n",
              "<p>3180 rows × 8 columns</p>\n",
              "</div>"
            ],
            "text/plain": [
              "                                           Product Name  Product ID  \\\n",
              "0     Women's adidas Originals NMD_Racer Primeknit S...      AH2430   \n",
              "1                  Women's adidas Originals Sleek Shoes      G27341   \n",
              "2                     Women's adidas Swim Puka Slippers      CM0081   \n",
              "3      Women's adidas Sport Inspired Questar Ride Shoes      B44832   \n",
              "4              Women's adidas Originals Taekwondo Shoes      D98205   \n",
              "...                                                 ...         ...   \n",
              "3260                    Nike Tiempo Legend 8 Academy TF  AT6100-606   \n",
              "3262                              Nike React Metcon AMP  CT9155-063   \n",
              "3263                                 Air Jordan 8 Retro  CI1236-100   \n",
              "3266                                    Nike Air Max 98  AH6799-300   \n",
              "3267                                     Nike P-6000 SE  CJ9585-600   \n",
              "\n",
              "      Listing Price  Sale Price  Discount              Brand  Rating  Reviews  \n",
              "0            149.99       74.99        50   Adidas ORIGINALS     4.8       41  \n",
              "1             75.99       37.99        50   Adidas ORIGINALS     3.3       24  \n",
              "2              9.99        5.99        40  Adidas CORE / NEO     2.6       37  \n",
              "3             69.99       34.99        50  Adidas CORE / NEO     4.1       35  \n",
              "4             79.99       39.99        50   Adidas ORIGINALS     3.5       72  \n",
              "...             ...         ...       ...                ...     ...      ...  \n",
              "3260          64.95       64.95         0               Nike     0.0        0  \n",
              "3262         139.95      139.95         0               Nike     3.0        1  \n",
              "3263         159.95      127.97         0               Nike     5.0        1  \n",
              "3266         169.95      169.95         0               Nike     4.0        4  \n",
              "3267          89.95       62.97         0               Nike     0.0        0  \n",
              "\n",
              "[3180 rows x 8 columns]"
            ]
          },
          "execution_count": 16,
          "metadata": {},
          "output_type": "execute_result"
        }
      ],
      "source": [
        "Adidas_Nike"
      ]
    },
    {
      "cell_type": "markdown",
      "metadata": {
        "id": "dad3MQsFiNBv"
      },
      "source": [
        "* <p style=\"color:deeppink;\"> Xuất file: </p>"
      ]
    },
    {
      "cell_type": "code",
      "execution_count": 17,
      "metadata": {
        "id": "rXcwRZvsFGhS"
      },
      "outputs": [],
      "source": [
        "Adidas_Nike.to_csv('Adidas_Nike.csv',index=False)"
      ]
    },
    {
      "cell_type": "markdown",
      "metadata": {
        "id": "sMtDcFJq4tgW"
      },
      "source": [
        "### <h1 style=\"color:mediumaquamarine;\"> _7. Vẽ biểu đồ tròn_ </h1>"
      ]
    },
    {
      "cell_type": "code",
      "execution_count": 18,
      "metadata": {
        "id": "TqA-qMmO4zbu"
      },
      "outputs": [],
      "source": [
        "from matplotlib import pyplot as plt"
      ]
    },
    {
      "cell_type": "code",
      "execution_count": 19,
      "metadata": {
        "colab": {
          "base_uri": "https://localhost:8080/",
          "height": 467
        },
        "id": "_icVVbp05A2z",
        "outputId": "a2760fbe-6561-4b21-fc05-51a4c5b5bb07"
      },
      "outputs": [
        {
          "data": {
            "text/plain": [
              "Text(0.5, 1.0, 'Chiết khấu')"
            ]
          },
          "execution_count": 19,
          "metadata": {},
          "output_type": "execute_result"
        },
        {
          "data": {
            "image/png": "[encoded data removed]",
            "text/plain": [
              "<Figure size 640x480 with 1 Axes>"
            ]
          },
          "metadata": {},
          "output_type": "display_data"
        }
      ],
      "source": [
        "df_summary=Adidas_Nike[['Brand','Discount']].groupby('Brand').mean()\n",
        "x=df_summary.index\n",
        "y=df_summary['Discount'].values\n",
        "to_giay=plt.figure()\n",
        "toa_do=to_giay.add_axes([0,0,1.4,1.4])\n",
        "khoang_cach=(0.05,0.05,0.05,0.05)\n",
        "toa_do.pie(y,explode=khoang_cach,labels=x,autopct='%1.2f%%')\n",
        "plt.title('Chiết khấu')"
      ]
    },
    {
      "cell_type": "markdown",
      "metadata": {
        "id": "AFl3Z_D6bX94"
      },
      "source": [
        "### <h1 style=\"color:mediumaquamarine;\"> _8.Vẽ biểu đồ Heatmap_ </h1>"
      ]
    },
    {
      "cell_type": "code",
      "execution_count": 20,
      "metadata": {
        "id": "HenexDgLbgrs"
      },
      "outputs": [],
      "source": [
        "import seaborn as sns"
      ]
    },
    {
      "cell_type": "code",
      "execution_count": 21,
      "metadata": {
        "colab": {
          "base_uri": "https://localhost:8080/",
          "height": 337
        },
        "id": "vVGaUCC8b1mX",
        "outputId": "e3fd67c4-d7e7-49c2-a6b8-b04a93eb0486"
      },
      "outputs": [
        {
          "data": {
            "text/plain": [
              "<AxesSubplot: >"
            ]
          },
          "execution_count": 21,
          "metadata": {},
          "output_type": "execute_result"
        },
        {
          "data": {
            "image/png": "[encoded data removed]",
            "text/plain": [
              "<Figure size 640x480 with 2 Axes>"
            ]
          },
          "metadata": {},
          "output_type": "display_data"
        }
      ],
      "source": [
        "sns.heatmap(Adidas_Nike.corr(), cmap='Oranges',annot=True)"
      ]
    }
  ],
  "metadata": {
    "colab": {
      "collapsed_sections": [],
      "name": "Project",
      "provenance": []
    },
    "kernelspec": {
      "display_name": "Python 3.8.10 64-bit",
      "language": "python",
      "name": "python3"
    },
    "language_info": {
      "codemirror_mode": {
        "name": "ipython",
        "version": 3
      },
      "file_extension": ".py",
      "mimetype": "text/x-python",
      "name": "python",
      "nbconvert_exporter": "python",
      "pygments_lexer": "ipython3",
      "version": "3.8.10"
    },
    "vscode": {
      "interpreter": {
        "hash": "b337b16e1f284c9fe7de692799556d56c1809887abe3f5a49ffeb9e7df151cfb"
      }
    }
  },
  "nbformat": 4,
  "nbformat_minor": 0
}
